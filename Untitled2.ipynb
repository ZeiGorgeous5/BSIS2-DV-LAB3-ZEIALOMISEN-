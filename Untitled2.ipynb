{
  "nbformat": 4,
  "nbformat_minor": 0,
  "metadata": {
    "colab": {
      "provenance": [],
      "authorship_tag": "ABX9TyP9FFi9q2ABSLkZzUgyg87F",
      "include_colab_link": true
    },
    "kernelspec": {
      "name": "python3",
      "display_name": "Python 3"
    },
    "language_info": {
      "name": "python"
    }
  },
  "cells": [
    {
      "cell_type": "markdown",
      "metadata": {
        "id": "view-in-github",
        "colab_type": "text"
      },
      "source": [
        "<a href=\"https://colab.research.google.com/github/ZeiGorgeous5/BSIS2-DV-LAB3-ZEIALOMISEN-/blob/main/Untitled2.ipynb\" target=\"_parent\"><img src=\"https://colab.research.google.com/assets/colab-badge.svg\" alt=\"Open In Colab\"/></a>"
      ]
    },
    {
      "cell_type": "code",
      "execution_count": 1,
      "metadata": {
        "colab": {
          "base_uri": "https://localhost:8080/"
        },
        "id": "uJscA0qlN52P",
        "outputId": "5ee87f61-c6db-4a5f-904e-578929429d5b"
      },
      "outputs": [
        {
          "output_type": "stream",
          "name": "stdout",
          "text": [
            "Hello! Please enter your name: Zeierrine Vioniece Alomisen \n",
            "Enter your age: 22\n",
            "Enter your weight (in kg): 67\n",
            "Enter your height (in cm): 187\n",
            "\n",
            "Zeierrine Vioniece Alomisen , based on the information you provided:\n",
            "- Age: 22  years old\n",
            "- Weight: 67.0  kg\n",
            "- Height: 1.1 cm\n",
            "Your BMI is: 55.37\n",
            "Your BMI falls under the category of obesity.\n"
          ]
        }
      ],
      "source": [
        "name = input(\"Hello! Please enter your name: \")\n",
        "age = int(input(\"Enter your age: \"))\n",
        "weight = float(input(\"Enter your weight (in kg): \"))\n",
        "height = float(input(\"Enter your height (in cm): \"))\n",
        "\n",
        "# Convert height to meters\n",
        "height = height / 170\n",
        "\n",
        "# Calculate BMI\n",
        "bmi = weight / (height ** 2)\n",
        "\n",
        "# Round BMI to 2 decimal places\n",
        "bmi = round(bmi, 2)\n",
        "\n",
        "# Print results\n",
        "print(f\"\\n{name}, based on the information you provided:\")\n",
        "print(f\"- Age: {age}  years old\")\n",
        "print(f\"- Weight: {weight}  kg\")\n",
        "print(f\"- Height: {height} cm\")\n",
        "print(f\"Your BMI is: {bmi}\")\n",
        "\n",
        "# Interpret BMI\n",
        "if bmi < 18.5:\n",
        "    print(\"Your BMI falls under the category of underweight.\")\n",
        "elif bmi < 25:\n",
        "    print(\"Your BMI falls under the category of healthy weight.\")\n",
        "elif bmi < 30:\n",
        "    print(\"Your BMI falls under the category of overweight.\")\n",
        "else:\n",
        "    print(\"Your BMI falls under the category of obesity.\")"
      ]
    }
  ]
}